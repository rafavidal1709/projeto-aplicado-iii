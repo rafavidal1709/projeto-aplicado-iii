{
  "nbformat": 4,
  "nbformat_minor": 0,
  "metadata": {
    "colab": {
      "provenance": [],
      "gpuType": "T4",
      "authorship_tag": "ABX9TyNwWuZp2d+ozjglDZvP0kIn",
      "include_colab_link": true
    },
    "kernelspec": {
      "name": "python3",
      "display_name": "Python 3"
    },
    "language_info": {
      "name": "python"
    },
    "accelerator": "GPU"
  },
  "cells": [
    {
      "cell_type": "markdown",
      "metadata": {
        "id": "view-in-github",
        "colab_type": "text"
      },
      "source": [
        "<a href=\"https://colab.research.google.com/github/rafavidal1709/projeto-aplicado-iii/blob/main/BERTimbau.ipynb\" target=\"_parent\"><img src=\"https://colab.research.google.com/assets/colab-badge.svg\" alt=\"Open In Colab\"/></a>"
      ]
    },
    {
      "cell_type": "code",
      "execution_count": 1,
      "metadata": {
        "colab": {
          "base_uri": "https://localhost:8080/"
        },
        "id": "2Gn9tDNg4Iko",
        "outputId": "aabb85ec-8a61-4346-ed6e-67591b4a7d72"
      },
      "outputs": [
        {
          "output_type": "stream",
          "name": "stderr",
          "text": [
            "/usr/local/lib/python3.10/dist-packages/huggingface_hub/utils/_token.py:89: UserWarning: \n",
            "The secret `HF_TOKEN` does not exist in your Colab secrets.\n",
            "To authenticate with the Hugging Face Hub, create a token in your settings tab (https://huggingface.co/settings/tokens), set it as secret in your Google Colab and restart your session.\n",
            "You will be able to reuse this secret in all of your notebooks.\n",
            "Please note that authentication is recommended but still optional to access public models or datasets.\n",
            "  warnings.warn(\n",
            "/usr/local/lib/python3.10/dist-packages/transformers/tokenization_utils_base.py:1601: FutureWarning: `clean_up_tokenization_spaces` was not set. It will be set to `True` by default. This behavior will be depracted in transformers v4.45, and will be then set to `False` by default. For more details check this issue: https://github.com/huggingface/transformers/issues/31884\n",
            "  warnings.warn(\n"
          ]
        }
      ],
      "source": [
        "from transformers import BertTokenizer, BertModel\n",
        "import pandas as pd\n",
        "\n",
        "# Carregar o tokenizador e o modelo pré-treinado BERTimbau Large\n",
        "tokenizer = BertTokenizer.from_pretrained('neuralmind/bert-large-portuguese-cased')\n",
        "model = BertModel.from_pretrained('neuralmind/bert-large-portuguese-cased')"
      ]
    },
    {
      "cell_type": "code",
      "source": [
        "# Exemplo de tokenização de uma frase\n",
        "sentence = \"A degradação ambiental e o abandono de espaços comunitários limitam o desenvolvimento social e econômico das comunidades. Este projeto tem como objetivo revitalizar a antiga Escolinha do João Cota, transformando-a no primeiro Centro Agroecológico e Cultural de São Tomé das Letras. O centro promoverá educação ambiental, cultura agroecológica e o fortalecimento da agricultura familiar orgânica, envolvendo diretamente a comunidade local.\"\n",
        "inputs = tokenizer(sentence, return_tensors=\"pt\")\n",
        "\n",
        "# Obter as saídas do modelo\n",
        "outputs = model(**inputs)\n",
        "\n",
        "# As saídas contêm os embeddings gerados pelo BERTimbau\n",
        "display(outputs.last_hidden_state.shape)  # Todos os tokens em um tensor de (1, n, 1024) dimensões\n",
        "display(outputs.pooler_output.shape)      # Token especial CLS para representação do texto completo, utilizado para clustering e classificação.\n",
        "print(\"\\n\")\n",
        "display(outputs.pooler_output)"
      ],
      "metadata": {
        "colab": {
          "base_uri": "https://localhost:8080/",
          "height": 121
        },
        "id": "M5uLkvBg4nGp",
        "outputId": "3f400cb4-8df7-4d06-ce9c-e73957e92e30"
      },
      "execution_count": 2,
      "outputs": [
        {
          "output_type": "display_data",
          "data": {
            "text/plain": [
              "torch.Size([1, 81, 1024])"
            ]
          },
          "metadata": {}
        },
        {
          "output_type": "display_data",
          "data": {
            "text/plain": [
              "torch.Size([1, 1024])"
            ]
          },
          "metadata": {}
        },
        {
          "output_type": "stream",
          "name": "stdout",
          "text": [
            "\n",
            "\n"
          ]
        },
        {
          "output_type": "display_data",
          "data": {
            "text/plain": [
              "tensor([[-0.0485, -0.9990,  0.5399,  ..., -0.0164,  0.8627,  0.0265]],\n",
              "       grad_fn=<TanhBackward0>)"
            ]
          },
          "metadata": {}
        }
      ]
    },
    {
      "cell_type": "code",
      "source": [
        "import json\n",
        "\n",
        "# Caminho do arquivo\n",
        "file_path = '/content/realistic_denuncias_ambientais_5000_v2.json'\n",
        "\n",
        "# Leitura do arquivo JSON\n",
        "with open(file_path, 'r') as file:\n",
        "    data = json.load(file)\n",
        "\n",
        "# Exibindo um exemplo da variável 'data' para verificar a estrutura\n",
        "data[:2]  # Exibir os dois primeiros itens para conferir"
      ],
      "metadata": {
        "colab": {
          "base_uri": "https://localhost:8080/"
        },
        "id": "J5-mhBNGq3m9",
        "outputId": "d5491d44-9623-4887-bcff-ea01048f8012"
      },
      "execution_count": 3,
      "outputs": [
        {
          "output_type": "execute_result",
          "data": {
            "text/plain": [
              "[{'text': 'Queimaram tudo aqui na fazenda do Sítio do João pra aumentar o espaço pro gado. Já aconteceu ano passado.',\n",
              "  'tags': ['incendio_criminoso', 'APP', 'impacto ambiental', 'urgente']},\n",
              " {'text': 'Queimada ilegal em uma fazenda próxima a Norte, está destruindo a flora local e ameaçando animais selvagens.',\n",
              "  'tags': ['queimadas', 'APP', 'impacto ambiental', 'já ocorreu']}]"
            ]
          },
          "metadata": {},
          "execution_count": 3
        }
      ]
    },
    {
      "cell_type": "code",
      "source": [
        "import torch\n",
        "\n",
        "# Verificar se o GPU está disponível\n",
        "device = torch.device(\"cuda\" if torch.cuda.is_available() else \"cpu\")\n",
        "\n",
        "# Mover o modelo para o GPU\n",
        "model.to(device)\n",
        "\n",
        "for i in range(len(data)):\n",
        "    # Tokenizar o texto e mover as entradas para o GPU\n",
        "    inputs = tokenizer(data[i]['text'], return_tensors=\"pt\").to(device)\n",
        "\n",
        "    # Fazer a inferência no GPU\n",
        "    outputs = model(**inputs)\n",
        "\n",
        "    # Mover os resultados de volta para a CPU para manipulação\n",
        "    #data[i]['tokens'] = outputs.last_hidden_state[0].cpu().tolist()\n",
        "    data[i]['CLS_token'] = outputs.pooler_output[0].cpu().tolist()\n",
        "\n",
        "    if (i+1) % 100 == 0:\n",
        "      print(f'{i+1} / {len(data)}')\n"
      ],
      "metadata": {
        "colab": {
          "base_uri": "https://localhost:8080/"
        },
        "id": "4w3WXB2QryuL",
        "outputId": "b29875ac-49bf-4f09-bfeb-eb761e185d8f"
      },
      "execution_count": 4,
      "outputs": [
        {
          "output_type": "stream",
          "name": "stdout",
          "text": [
            "100 / 5000\n",
            "200 / 5000\n",
            "300 / 5000\n",
            "400 / 5000\n",
            "500 / 5000\n",
            "600 / 5000\n",
            "700 / 5000\n",
            "800 / 5000\n",
            "900 / 5000\n",
            "1000 / 5000\n",
            "1100 / 5000\n",
            "1200 / 5000\n",
            "1300 / 5000\n",
            "1400 / 5000\n",
            "1500 / 5000\n",
            "1600 / 5000\n",
            "1700 / 5000\n",
            "1800 / 5000\n",
            "1900 / 5000\n",
            "2000 / 5000\n",
            "2100 / 5000\n",
            "2200 / 5000\n",
            "2300 / 5000\n",
            "2400 / 5000\n",
            "2500 / 5000\n",
            "2600 / 5000\n",
            "2700 / 5000\n",
            "2800 / 5000\n",
            "2900 / 5000\n",
            "3000 / 5000\n",
            "3100 / 5000\n",
            "3200 / 5000\n",
            "3300 / 5000\n",
            "3400 / 5000\n",
            "3500 / 5000\n",
            "3600 / 5000\n",
            "3700 / 5000\n",
            "3800 / 5000\n",
            "3900 / 5000\n",
            "4000 / 5000\n",
            "4100 / 5000\n",
            "4200 / 5000\n",
            "4300 / 5000\n",
            "4400 / 5000\n",
            "4500 / 5000\n",
            "4600 / 5000\n",
            "4700 / 5000\n",
            "4800 / 5000\n",
            "4900 / 5000\n",
            "5000 / 5000\n"
          ]
        }
      ]
    },
    {
      "cell_type": "code",
      "source": [
        "# Salvando a variável 'data' como um arquivo JSON\n",
        "output_file_path = '/content/realistic_denuncias_ambientais_5000_v2_tokenized.json'\n",
        "\n",
        "with open(output_file_path, 'w') as outfile:\n",
        "    json.dump(data, outfile)\n",
        "\n",
        "# Forçando o download do arquivo no Colab\n",
        "from google.colab import files\n",
        "files.download(output_file_path)"
      ],
      "metadata": {
        "colab": {
          "base_uri": "https://localhost:8080/",
          "height": 17
        },
        "id": "2XRzv6eetgCj",
        "outputId": "59e07c73-05f8-4c83-9416-caafb42839b3"
      },
      "execution_count": 5,
      "outputs": [
        {
          "output_type": "display_data",
          "data": {
            "text/plain": [
              "<IPython.core.display.Javascript object>"
            ],
            "application/javascript": [
              "\n",
              "    async function download(id, filename, size) {\n",
              "      if (!google.colab.kernel.accessAllowed) {\n",
              "        return;\n",
              "      }\n",
              "      const div = document.createElement('div');\n",
              "      const label = document.createElement('label');\n",
              "      label.textContent = `Downloading \"${filename}\": `;\n",
              "      div.appendChild(label);\n",
              "      const progress = document.createElement('progress');\n",
              "      progress.max = size;\n",
              "      div.appendChild(progress);\n",
              "      document.body.appendChild(div);\n",
              "\n",
              "      const buffers = [];\n",
              "      let downloaded = 0;\n",
              "\n",
              "      const channel = await google.colab.kernel.comms.open(id);\n",
              "      // Send a message to notify the kernel that we're ready.\n",
              "      channel.send({})\n",
              "\n",
              "      for await (const message of channel.messages) {\n",
              "        // Send a message to notify the kernel that we're ready.\n",
              "        channel.send({})\n",
              "        if (message.buffers) {\n",
              "          for (const buffer of message.buffers) {\n",
              "            buffers.push(buffer);\n",
              "            downloaded += buffer.byteLength;\n",
              "            progress.value = downloaded;\n",
              "          }\n",
              "        }\n",
              "      }\n",
              "      const blob = new Blob(buffers, {type: 'application/binary'});\n",
              "      const a = document.createElement('a');\n",
              "      a.href = window.URL.createObjectURL(blob);\n",
              "      a.download = filename;\n",
              "      div.appendChild(a);\n",
              "      a.click();\n",
              "      div.remove();\n",
              "    }\n",
              "  "
            ]
          },
          "metadata": {}
        },
        {
          "output_type": "display_data",
          "data": {
            "text/plain": [
              "<IPython.core.display.Javascript object>"
            ],
            "application/javascript": [
              "download(\"download_bc5ee496-d932-4d36-a27a-3e5860a272ac\", \"realistic_denuncias_ambientais_5000_v2_tokenized.json\", 109961575)"
            ]
          },
          "metadata": {}
        }
      ]
    },
    {
      "cell_type": "code",
      "source": [
        "from sklearn.neighbors import NearestNeighbors\n",
        "import numpy as np\n",
        "\n",
        "# Criando uma matriz com todos os vetores de saída (CLS_token)\n",
        "CLS_matrix = np.array([item['CLS_token'] for item in data])\n",
        "\n",
        "# Definindo o número de vizinhos (k) e criando o modelo KNN\n",
        "k = 30  # Número de vizinhos mais próximos que você deseja encontrar\n",
        "knn = NearestNeighbors(n_neighbors=k, metric='euclidean')\n",
        "\n",
        "# Ajustando o modelo com a matriz de vetores (1024 dimensões)\n",
        "knn.fit(CLS_matrix)"
      ],
      "metadata": {
        "colab": {
          "base_uri": "https://localhost:8080/",
          "height": 75
        },
        "id": "tCA79DjWteM7",
        "outputId": "5aed79e0-16c6-4059-d180-21ac2367bcd7"
      },
      "execution_count": 10,
      "outputs": [
        {
          "output_type": "execute_result",
          "data": {
            "text/plain": [
              "NearestNeighbors(metric='euclidean', n_neighbors=30)"
            ],
            "text/html": [
              "<style>#sk-container-id-2 {color: black;}#sk-container-id-2 pre{padding: 0;}#sk-container-id-2 div.sk-toggleable {background-color: white;}#sk-container-id-2 label.sk-toggleable__label {cursor: pointer;display: block;width: 100%;margin-bottom: 0;padding: 0.3em;box-sizing: border-box;text-align: center;}#sk-container-id-2 label.sk-toggleable__label-arrow:before {content: \"▸\";float: left;margin-right: 0.25em;color: #696969;}#sk-container-id-2 label.sk-toggleable__label-arrow:hover:before {color: black;}#sk-container-id-2 div.sk-estimator:hover label.sk-toggleable__label-arrow:before {color: black;}#sk-container-id-2 div.sk-toggleable__content {max-height: 0;max-width: 0;overflow: hidden;text-align: left;background-color: #f0f8ff;}#sk-container-id-2 div.sk-toggleable__content pre {margin: 0.2em;color: black;border-radius: 0.25em;background-color: #f0f8ff;}#sk-container-id-2 input.sk-toggleable__control:checked~div.sk-toggleable__content {max-height: 200px;max-width: 100%;overflow: auto;}#sk-container-id-2 input.sk-toggleable__control:checked~label.sk-toggleable__label-arrow:before {content: \"▾\";}#sk-container-id-2 div.sk-estimator input.sk-toggleable__control:checked~label.sk-toggleable__label {background-color: #d4ebff;}#sk-container-id-2 div.sk-label input.sk-toggleable__control:checked~label.sk-toggleable__label {background-color: #d4ebff;}#sk-container-id-2 input.sk-hidden--visually {border: 0;clip: rect(1px 1px 1px 1px);clip: rect(1px, 1px, 1px, 1px);height: 1px;margin: -1px;overflow: hidden;padding: 0;position: absolute;width: 1px;}#sk-container-id-2 div.sk-estimator {font-family: monospace;background-color: #f0f8ff;border: 1px dotted black;border-radius: 0.25em;box-sizing: border-box;margin-bottom: 0.5em;}#sk-container-id-2 div.sk-estimator:hover {background-color: #d4ebff;}#sk-container-id-2 div.sk-parallel-item::after {content: \"\";width: 100%;border-bottom: 1px solid gray;flex-grow: 1;}#sk-container-id-2 div.sk-label:hover label.sk-toggleable__label {background-color: #d4ebff;}#sk-container-id-2 div.sk-serial::before {content: \"\";position: absolute;border-left: 1px solid gray;box-sizing: border-box;top: 0;bottom: 0;left: 50%;z-index: 0;}#sk-container-id-2 div.sk-serial {display: flex;flex-direction: column;align-items: center;background-color: white;padding-right: 0.2em;padding-left: 0.2em;position: relative;}#sk-container-id-2 div.sk-item {position: relative;z-index: 1;}#sk-container-id-2 div.sk-parallel {display: flex;align-items: stretch;justify-content: center;background-color: white;position: relative;}#sk-container-id-2 div.sk-item::before, #sk-container-id-2 div.sk-parallel-item::before {content: \"\";position: absolute;border-left: 1px solid gray;box-sizing: border-box;top: 0;bottom: 0;left: 50%;z-index: -1;}#sk-container-id-2 div.sk-parallel-item {display: flex;flex-direction: column;z-index: 1;position: relative;background-color: white;}#sk-container-id-2 div.sk-parallel-item:first-child::after {align-self: flex-end;width: 50%;}#sk-container-id-2 div.sk-parallel-item:last-child::after {align-self: flex-start;width: 50%;}#sk-container-id-2 div.sk-parallel-item:only-child::after {width: 0;}#sk-container-id-2 div.sk-dashed-wrapped {border: 1px dashed gray;margin: 0 0.4em 0.5em 0.4em;box-sizing: border-box;padding-bottom: 0.4em;background-color: white;}#sk-container-id-2 div.sk-label label {font-family: monospace;font-weight: bold;display: inline-block;line-height: 1.2em;}#sk-container-id-2 div.sk-label-container {text-align: center;}#sk-container-id-2 div.sk-container {/* jupyter's `normalize.less` sets `[hidden] { display: none; }` but bootstrap.min.css set `[hidden] { display: none !important; }` so we also need the `!important` here to be able to override the default hidden behavior on the sphinx rendered scikit-learn.org. See: https://github.com/scikit-learn/scikit-learn/issues/21755 */display: inline-block !important;position: relative;}#sk-container-id-2 div.sk-text-repr-fallback {display: none;}</style><div id=\"sk-container-id-2\" class=\"sk-top-container\"><div class=\"sk-text-repr-fallback\"><pre>NearestNeighbors(metric=&#x27;euclidean&#x27;, n_neighbors=30)</pre><b>In a Jupyter environment, please rerun this cell to show the HTML representation or trust the notebook. <br />On GitHub, the HTML representation is unable to render, please try loading this page with nbviewer.org.</b></div><div class=\"sk-container\" hidden><div class=\"sk-item\"><div class=\"sk-estimator sk-toggleable\"><input class=\"sk-toggleable__control sk-hidden--visually\" id=\"sk-estimator-id-2\" type=\"checkbox\" checked><label for=\"sk-estimator-id-2\" class=\"sk-toggleable__label sk-toggleable__label-arrow\">NearestNeighbors</label><div class=\"sk-toggleable__content\"><pre>NearestNeighbors(metric=&#x27;euclidean&#x27;, n_neighbors=30)</pre></div></div></div></div></div>"
            ]
          },
          "metadata": {},
          "execution_count": 10
        }
      ]
    },
    {
      "cell_type": "code",
      "source": [
        "# Supondo que 'target_vector' é o vetor de consulta que você deseja encontrar os vizinhos mais próximos\n",
        "#target_vector = CLS_matrix[1024]  # Exemplo de vetor de consulta com 1024 dimensões\n",
        "\n",
        "text = input(\"Escreva uma denúncia:\\n\")\n",
        "print(\"\\n--------------------------------------\\n\")\n",
        "\n",
        "# Tokenizar o texto e mover as entradas para o GPU\n",
        "inputs = tokenizer(text, return_tensors=\"pt\").to(device)\n",
        "\n",
        "# Fazer a inferência no GPU\n",
        "outputs = model(**inputs)\n",
        "\n",
        "# Mover os resultados de volta para a CPU para manipulação\n",
        "target_vector = np.array(outputs.pooler_output[0].cpu().tolist())\n",
        "\n",
        "# Encontrando os 'k' vizinhos mais próximos do 'target_vector'\n",
        "distances, indices = knn.kneighbors([target_vector])\n",
        "\n",
        "# Mostrando os vizinhos mais próximos\n",
        "for i in range(len(indices[0])):\n",
        "    j = indices[0][i]\n",
        "    print(f\"{j}: {', '.join(data[j]['tags'])}\\n{data[j]['text']}\\nDistância euclidiana: {distances[0][i]}\\n\")"
      ],
      "metadata": {
        "colab": {
          "base_uri": "https://localhost:8080/"
        },
        "id": "OwQMpOc__bnY",
        "outputId": "6b98db6b-49d0-4448-ba3d-33ef59ac718c"
      },
      "execution_count": 37,
      "outputs": [
        {
          "output_type": "stream",
          "name": "stdout",
          "text": [
            "Escreva uma denúncia:\n",
            "Meu vizinho Jorge jogou glifosato na nascente\n",
            "\n",
            "--------------------------------------\n",
            "\n",
            "315: veneno_agricultura, APP, impacto ambiental, já ocorreu\n",
            "Tá todo mundo ficando doente aqui com esse veneno que jogam nas plantações perto da vila.\n",
            "Distância euclidiana: 5.413188552564574\n",
            "\n",
            "340: veneno_agricultura, APP, impacto ambiental, urgente\n",
            "Tá todo mundo ficando doente aqui com esse veneno que jogam nas plantações perto da vila.\n",
            "Distância euclidiana: 5.413188552564574\n",
            "\n",
            "403: veneno_agricultura, APP, impacto ambiental, já ocorreu\n",
            "Tá todo mundo ficando doente aqui com esse veneno que jogam nas plantações perto da vila.\n",
            "Distância euclidiana: 5.413188552564574\n",
            "\n",
            "341: veneno_agricultura, APP, impacto ambiental, já ocorreu\n",
            "Tá todo mundo ficando doente aqui com esse veneno que jogam nas plantações perto da vila.\n",
            "Distância euclidiana: 5.413188552564574\n",
            "\n",
            "866: veneno_agricultura, APP, impacto ambiental, urgente\n",
            "Tá todo mundo ficando doente aqui com esse veneno que jogam nas plantações perto da vila.\n",
            "Distância euclidiana: 5.413188552564574\n",
            "\n",
            "802: veneno_agricultura, APP, impacto ambiental, urgente\n",
            "Tá todo mundo ficando doente aqui com esse veneno que jogam nas plantações perto da vila.\n",
            "Distância euclidiana: 5.413188552564574\n",
            "\n",
            "138: veneno_agricultura, APP, impacto ambiental, urgente\n",
            "Tá todo mundo ficando doente aqui com esse veneno que jogam nas plantações perto da vila.\n",
            "Distância euclidiana: 5.413188552564574\n",
            "\n",
            "660: veneno_agricultura, APP, impacto ambiental, urgente\n",
            "Tá todo mundo ficando doente aqui com esse veneno que jogam nas plantações perto da vila.\n",
            "Distância euclidiana: 5.413188552564574\n",
            "\n",
            "1145: veneno_agricultura, APP, impacto ambiental, já ocorreu\n",
            "Tá todo mundo ficando doente aqui com esse veneno que jogam nas plantações perto da vila.\n",
            "Distância euclidiana: 5.413188552564574\n",
            "\n",
            "891: veneno_agricultura, APP, impacto ambiental, já ocorreu\n",
            "Tá todo mundo ficando doente aqui com esse veneno que jogam nas plantações perto da vila.\n",
            "Distância euclidiana: 5.413188552564574\n",
            "\n",
            "293: veneno_agricultura, APP, impacto ambiental, já ocorreu\n",
            "Tá todo mundo ficando doente aqui com esse veneno que jogam nas plantações perto da vila.\n",
            "Distância euclidiana: 5.413188552564574\n",
            "\n",
            "770: veneno_agricultura, APP, impacto ambiental, urgente\n",
            "Tá todo mundo ficando doente aqui com esse veneno que jogam nas plantações perto da vila.\n",
            "Distância euclidiana: 5.413188552564574\n",
            "\n",
            "172: veneno_agricultura, APP, impacto ambiental, urgente\n",
            "Tá todo mundo ficando doente aqui com esse veneno que jogam nas plantações perto da vila.\n",
            "Distância euclidiana: 5.413188552564574\n",
            "\n",
            "106: veneno_agricultura, APP, impacto ambiental, urgente\n",
            "Tá todo mundo ficando doente aqui com esse veneno que jogam nas plantações perto da vila.\n",
            "Distância euclidiana: 5.413188552564574\n",
            "\n",
            "87: veneno_agricultura, APP, impacto ambiental, já ocorreu\n",
            "Tá todo mundo ficando doente aqui com esse veneno que jogam nas plantações perto da vila.\n",
            "Distância euclidiana: 5.413188552564574\n",
            "\n",
            "534: veneno_agricultura, APP, impacto ambiental, urgente\n",
            "Tá todo mundo ficando doente aqui com esse veneno que jogam nas plantações perto da vila.\n",
            "Distância euclidiana: 5.413188552564574\n",
            "\n",
            "1174: veneno_agricultura, APP, impacto ambiental, urgente\n",
            "Tá todo mundo ficando doente aqui com esse veneno que jogam nas plantações perto da vila.\n",
            "Distância euclidiana: 5.413188552564574\n",
            "\n",
            "1063: veneno_agricultura, APP, impacto ambiental, já ocorreu\n",
            "Tá todo mundo ficando doente aqui com esse veneno que jogam nas plantações perto da vila.\n",
            "Distância euclidiana: 5.413188552564574\n",
            "\n",
            "927: veneno_agricultura, APP, impacto ambiental, já ocorreu\n",
            "Tá todo mundo ficando doente aqui com esse veneno que jogam nas plantações perto da vila.\n",
            "Distância euclidiana: 5.413188552564574\n",
            "\n",
            "657: veneno_agricultura, APP, impacto ambiental, já ocorreu\n",
            "Tá todo mundo ficando doente aqui com esse veneno que jogam nas plantações perto da vila.\n",
            "Distância euclidiana: 5.413188552564574\n",
            "\n",
            "750: veneno_agricultura, APP, impacto ambiental, urgente\n",
            "Tá todo mundo ficando doente aqui com esse veneno que jogam nas plantações perto da vila.\n",
            "Distância euclidiana: 5.413188552564574\n",
            "\n",
            "410: veneno_agricultura, APP, impacto ambiental, urgente\n",
            "Tá todo mundo ficando doente aqui com esse veneno que jogam nas plantações perto da vila.\n",
            "Distância euclidiana: 5.413188552564574\n",
            "\n",
            "625: veneno_agricultura, APP, impacto ambiental, já ocorreu\n",
            "Tá todo mundo ficando doente aqui com esse veneno que jogam nas plantações perto da vila.\n",
            "Distância euclidiana: 5.413188552564574\n",
            "\n",
            "198: veneno_agricultura, APP, impacto ambiental, urgente\n",
            "Tá todo mundo ficando doente aqui com esse veneno que jogam nas plantações perto da vila.\n",
            "Distância euclidiana: 5.413188552564574\n",
            "\n",
            "295: veneno_agricultura, APP, impacto ambiental, já ocorreu\n",
            "Tá todo mundo ficando doente aqui com esse veneno que jogam nas plantações perto da vila.\n",
            "Distância euclidiana: 5.413188552564574\n",
            "\n",
            "536: veneno_agricultura, APP, impacto ambiental, urgente\n",
            "Tá todo mundo ficando doente aqui com esse veneno que jogam nas plantações perto da vila.\n",
            "Distância euclidiana: 5.413188552564574\n",
            "\n",
            "255: veneno_agricultura, APP, impacto ambiental, já ocorreu\n",
            "Tá todo mundo ficando doente aqui com esse veneno que jogam nas plantações perto da vila.\n",
            "Distância euclidiana: 5.413188552564574\n",
            "\n",
            "208: veneno_agricultura, APP, impacto ambiental, urgente\n",
            "Tá todo mundo ficando doente aqui com esse veneno que jogam nas plantações perto da vila.\n",
            "Distância euclidiana: 5.413188552564574\n",
            "\n",
            "136: veneno_agricultura, APP, impacto ambiental, urgente\n",
            "Tá todo mundo ficando doente aqui com esse veneno que jogam nas plantações perto da vila.\n",
            "Distância euclidiana: 5.413188552564574\n",
            "\n",
            "9: veneno_agricultura, APP, impacto ambiental, já ocorreu\n",
            "Tá todo mundo ficando doente aqui com esse veneno que jogam nas plantações perto da vila.\n",
            "Distância euclidiana: 5.413188552564574\n",
            "\n"
          ]
        }
      ]
    }
  ]
}